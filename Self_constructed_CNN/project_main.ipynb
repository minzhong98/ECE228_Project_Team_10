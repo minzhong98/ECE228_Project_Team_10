{
 "cells": [
  {
   "cell_type": "markdown",
   "metadata": {},
   "source": [
    "# Use CNN to detect breast cancer "
   ]
  },
  {
   "cell_type": "code",
   "execution_count": 1,
   "metadata": {},
   "outputs": [],
   "source": [
    "# General packages\n",
    "import pandas as pd\n",
    "import numpy as np\n",
    "import os\n",
    "from glob import glob\n",
    "import matplotlib.pyplot as plt\n",
    "import random\n",
    "\n",
    "from matplotlib.image import imread\n",
    "import cv2\n",
    "\n",
    "# Packages for ML\n",
    "import torch\n",
    "import torch.optim as optim\n",
    "import torch.nn as nn\n",
    "import torch.nn.functional as F\n",
    "from sklearn.model_selection import train_test_split\n",
    "\n",
    "from keras.utils.np_utils import to_categorical\n",
    "from keras.models import Sequential\n",
    "# from keras.optimizers import SGD, RMSprop, Adam, Adagrad, Adadelta\n",
    "from tensorflow.keras.optimizers import Adam, Adagrad, Adadelta\n",
    "from keras.layers import Dense, Dropout, Activation, Flatten, BatchNormalization, Conv2D, MaxPool2D, MaxPooling2D\n"
   ]
  },
  {
   "cell_type": "code",
   "execution_count": 2,
   "metadata": {},
   "outputs": [
    {
     "name": "stdout",
     "output_type": "stream",
     "text": [
      "../ECE 228/archive/IDC_regular_ps50_idx5/9036/0/9036_idx5_x1051_y2401_class0.png\n",
      "../ECE 228/archive/IDC_regular_ps50_idx5/9036/0/9036_idx5_x2951_y951_class0.png\n",
      "../ECE 228/archive/IDC_regular_ps50_idx5/9036/0/9036_idx5_x3001_y1451_class0.png\n",
      "../ECE 228/archive/IDC_regular_ps50_idx5/9036/0/9036_idx5_x3051_y801_class0.png\n",
      "../ECE 228/archive/IDC_regular_ps50_idx5/9036/0/9036_idx5_x951_y1901_class0.png\n"
     ]
    }
   ],
   "source": [
    "fd = '../ECE 228/archive/IDC_regular_ps50_idx5'\n",
    "\n",
    "imagePatches = glob(fd + '/**/*.png', recursive=True)\n",
    "for filename in imagePatches[0:5]:\n",
    "    print(filename)"
   ]
  },
  {
   "cell_type": "code",
   "execution_count": 3,
   "metadata": {},
   "outputs": [
    {
     "data": {
      "text/plain": [
       "277524"
      ]
     },
     "execution_count": 3,
     "metadata": {},
     "output_type": "execute_result"
    }
   ],
   "source": [
    "len(imagePatches)"
   ]
  },
  {
   "cell_type": "code",
   "execution_count": 4,
   "metadata": {},
   "outputs": [
    {
     "data": {
      "text/plain": [
       "'Size of the class 0 = '"
      ]
     },
     "metadata": {},
     "output_type": "display_data"
    },
    {
     "data": {
      "text/plain": [
       "198738"
      ]
     },
     "metadata": {},
     "output_type": "display_data"
    },
    {
     "data": {
      "text/plain": [
       "'Size of the class 1 = '"
      ]
     },
     "metadata": {},
     "output_type": "display_data"
    },
    {
     "data": {
      "text/plain": [
       "78786"
      ]
     },
     "metadata": {},
     "output_type": "display_data"
    }
   ],
   "source": [
    "# bin the data to cancer and no cancer\n",
    "\n",
    "class0 = [] # 0 = no cancer\n",
    "class1 = [] # 1 = cancer\n",
    "\n",
    "for filename in imagePatches:\n",
    "    if filename.endswith(\"class0.png\"):\n",
    "         class0.append(filename)\n",
    "    else:\n",
    "        class1.append(filename)\n",
    "\n",
    "display('Size of the class 0 = ',len(class0))\n",
    "display('Size of the class 1 = ',len(class1))"
   ]
  },
  {
   "cell_type": "code",
   "execution_count": 5,
   "metadata": {},
   "outputs": [],
   "source": [
    "# randomly select 1000 images from each class\n",
    "\n",
    "num_sample_selected = 10000\n",
    "rand_sample_class0 = random.sample(class0, num_sample_selected)\n",
    "rand_sample_class1 = random.sample(class1, num_sample_selected)\n"
   ]
  },
  {
   "cell_type": "code",
   "execution_count": 6,
   "metadata": {},
   "outputs": [],
   "source": [
    "def get_image_arrays(data, label):\n",
    "    img_arrays = []\n",
    "    for i in data:\n",
    "        if i.endswith('.png'):\n",
    "            img = imread(i )\n",
    "            img_sized = cv2.resize(img, (64, 64), interpolation=cv2.INTER_LINEAR)\n",
    "            img_arrays.append([img_sized, label])\n",
    "    return img_arrays"
   ]
  },
  {
   "cell_type": "code",
   "execution_count": 7,
   "metadata": {},
   "outputs": [],
   "source": [
    "class0_array = get_image_arrays(rand_sample_class0, 0)\n",
    "class1_array = get_image_arrays(rand_sample_class1, 1)"
   ]
  },
  {
   "cell_type": "code",
   "execution_count": 8,
   "metadata": {},
   "outputs": [
    {
     "data": {
      "text/plain": [
       "10000"
      ]
     },
     "execution_count": 8,
     "metadata": {},
     "output_type": "execute_result"
    }
   ],
   "source": [
    "len(class0_array)"
   ]
  },
  {
   "cell_type": "code",
   "execution_count": 9,
   "metadata": {},
   "outputs": [
    {
     "data": {
      "text/plain": [
       "(50, 50, 3)"
      ]
     },
     "metadata": {},
     "output_type": "display_data"
    },
    {
     "data": {
      "image/png": "[encoded data removed]",
      "text/plain": [
       "<Figure size 432x288 with 1 Axes>"
      ]
     },
     "metadata": {
      "needs_background": "light"
     },
     "output_type": "display_data"
    }
   ],
   "source": [
    "test = cv2.imread(fd + '/13689/1/13689_idx5_x801_y1501_class1.png' ,cv2.IMREAD_COLOR)\n",
    "plt.imshow(test)\n",
    "\n",
    "display(test.shape)"
   ]
  },
  {
   "cell_type": "code",
   "execution_count": 10,
   "metadata": {},
   "outputs": [
    {
     "name": "stderr",
     "output_type": "stream",
     "text": [
      "<__array_function__ internals>:5: VisibleDeprecationWarning: Creating an ndarray from ragged nested sequences (which is a list-or-tuple of lists-or-tuples-or ndarrays with different lengths or shapes) is deprecated. If you meant to do this, you must specify 'dtype=object' when creating the ndarray.\n"
     ]
    }
   ],
   "source": [
    "combined_data = np.concatenate((class0_array, class1_array))\n",
    "random.seed(10)\n",
    "random.shuffle(combined_data)"
   ]
  },
  {
   "cell_type": "code",
   "execution_count": 11,
   "metadata": {},
   "outputs": [
    {
     "data": {
      "text/plain": [
       "(20000, 2)"
      ]
     },
     "execution_count": 11,
     "metadata": {},
     "output_type": "execute_result"
    }
   ],
   "source": [
    "combined_data.shape"
   ]
  },
  {
   "cell_type": "code",
   "execution_count": 12,
   "metadata": {},
   "outputs": [],
   "source": [
    "X = []\n",
    "y = []\n",
    "\n",
    "for i in range(combined_data.shape[0]):\n",
    "    X.append(combined_data[i][0])\n",
    "    y.append(combined_data[i][1])\n",
    "\n"
   ]
  },
  {
   "cell_type": "code",
   "execution_count": 13,
   "metadata": {},
   "outputs": [],
   "source": [
    "X = np.array(X).reshape(-1, 64, 64, 3)"
   ]
  },
  {
   "cell_type": "code",
   "execution_count": 14,
   "metadata": {},
   "outputs": [
    {
     "name": "stdout",
     "output_type": "stream",
     "text": [
      "False\n"
     ]
    }
   ],
   "source": [
    "print(torch.cuda.is_available())"
   ]
  },
  {
   "cell_type": "code",
   "execution_count": 15,
   "metadata": {},
   "outputs": [
    {
     "data": {
      "text/plain": [
       "(20000, 64, 64, 3)"
      ]
     },
     "execution_count": 15,
     "metadata": {},
     "output_type": "execute_result"
    }
   ],
   "source": [
    "X.shape"
   ]
  },
  {
   "cell_type": "code",
   "execution_count": 16,
   "metadata": {},
   "outputs": [
    {
     "name": "stdout",
     "output_type": "stream",
     "text": [
      "(15000, 64, 64, 3) (5000, 64, 64, 3) (15000, 2) (5000, 2)\n"
     ]
    }
   ],
   "source": [
    "X_train, X_test, y_train, y_test = train_test_split(X, y, test_size=0.25, random_state=10)\n",
    "y_train = to_categorical(y_train)\n",
    "y_test = to_categorical(y_test)\n",
    "print(X_train.shape, X_test.shape, y_train.shape, y_test.shape)"
   ]
  },
  {
   "cell_type": "code",
   "execution_count": 17,
   "metadata": {},
   "outputs": [],
   "source": [
    "def create_model():        \n",
    "    model = Sequential()\n",
    "    model.add(Conv2D(filters = 32, kernel_size=3, activation='relu', input_shape=(64,64,3)))\n",
    "    model.add(Conv2D(filters = 16, kernel_size=3, activation='relu'))\n",
    "    #model.add(Conv2D(filters = 16, kernel_size=3, activation='relu'))\n",
    "    model.add(Flatten())\n",
    "    model.add(Dense(2, activation=\"softmax\"))\n",
    "    adam = Adam(learning_rate=0.001)\n",
    "    model.compile(loss=\"binary_crossentropy\", optimizer=adam, metrics=['accuracy'])   \n",
    "    #model.compile(loss=\"MeanSquaredError\", optimizer=adam, metrics=['accuracy'])     \n",
    "\n",
    "\n",
    "    return model"
   ]
  },
  {
   "cell_type": "code",
   "execution_count": 18,
   "metadata": {},
   "outputs": [
    {
     "name": "stdout",
     "output_type": "stream",
     "text": [
      "Epoch 1/30\n"
     ]
    },
    {
     "name": "stderr",
     "output_type": "stream",
     "text": [
      "2022-05-08 18:56:20.829127: I tensorflow/core/platform/cpu_feature_guard.cc:151] This TensorFlow binary is optimized with oneAPI Deep Neural Network Library (oneDNN) to use the following CPU instructions in performance-critical operations:  AVX2 FMA\n",
      "To enable them in other operations, rebuild TensorFlow with the appropriate compiler flags.\n"
     ]
    },
    {
     "name": "stdout",
     "output_type": "stream",
     "text": [
      "469/469 - 23s - loss: 0.3540 - accuracy: 0.8505 - val_loss: 0.3126 - val_accuracy: 0.8488 - 23s/epoch - 50ms/step\n",
      "Epoch 2/30\n",
      "469/469 - 23s - loss: 0.3090 - accuracy: 0.8671 - val_loss: 0.3037 - val_accuracy: 0.8702 - 23s/epoch - 49ms/step\n",
      "Epoch 3/30\n",
      "469/469 - 23s - loss: 0.2954 - accuracy: 0.8795 - val_loss: 0.2953 - val_accuracy: 0.8766 - 23s/epoch - 49ms/step\n",
      "Epoch 4/30\n",
      "469/469 - 23s - loss: 0.2898 - accuracy: 0.8861 - val_loss: 0.3060 - val_accuracy: 0.8812 - 23s/epoch - 49ms/step\n",
      "Epoch 5/30\n",
      "469/469 - 23s - loss: 0.2734 - accuracy: 0.8917 - val_loss: 0.2939 - val_accuracy: 0.8848 - 23s/epoch - 49ms/step\n",
      "Epoch 6/30\n",
      "469/469 - 23s - loss: 0.2584 - accuracy: 0.9003 - val_loss: 0.2946 - val_accuracy: 0.8886 - 23s/epoch - 49ms/step\n",
      "Epoch 7/30\n",
      "469/469 - 23s - loss: 0.2463 - accuracy: 0.9063 - val_loss: 0.3128 - val_accuracy: 0.8858 - 23s/epoch - 49ms/step\n",
      "Epoch 8/30\n",
      "469/469 - 23s - loss: 0.2180 - accuracy: 0.9187 - val_loss: 0.2887 - val_accuracy: 0.8950 - 23s/epoch - 49ms/step\n",
      "Epoch 9/30\n",
      "469/469 - 23s - loss: 0.1888 - accuracy: 0.9304 - val_loss: 0.2771 - val_accuracy: 0.8994 - 23s/epoch - 50ms/step\n",
      "Epoch 10/30\n",
      "469/469 - 23s - loss: 0.1592 - accuracy: 0.9423 - val_loss: 0.3442 - val_accuracy: 0.8930 - 23s/epoch - 50ms/step\n",
      "Epoch 11/30\n",
      "469/469 - 23s - loss: 0.1245 - accuracy: 0.9569 - val_loss: 0.3641 - val_accuracy: 0.9078 - 23s/epoch - 50ms/step\n",
      "Epoch 12/30\n",
      "469/469 - 24s - loss: 0.0999 - accuracy: 0.9656 - val_loss: 0.3288 - val_accuracy: 0.9044 - 24s/epoch - 50ms/step\n",
      "Epoch 13/30\n",
      "469/469 - 24s - loss: 0.0749 - accuracy: 0.9765 - val_loss: 0.4095 - val_accuracy: 0.9114 - 24s/epoch - 51ms/step\n",
      "Epoch 14/30\n",
      "469/469 - 24s - loss: 0.0564 - accuracy: 0.9825 - val_loss: 0.4442 - val_accuracy: 0.9150 - 24s/epoch - 51ms/step\n",
      "Epoch 15/30\n",
      "469/469 - 24s - loss: 0.0466 - accuracy: 0.9859 - val_loss: 0.4550 - val_accuracy: 0.9156 - 24s/epoch - 51ms/step\n",
      "Epoch 16/30\n",
      "469/469 - 24s - loss: 0.0306 - accuracy: 0.9911 - val_loss: 0.4987 - val_accuracy: 0.9164 - 24s/epoch - 52ms/step\n",
      "Epoch 17/30\n",
      "469/469 - 24s - loss: 0.0207 - accuracy: 0.9942 - val_loss: 0.5663 - val_accuracy: 0.9008 - 24s/epoch - 52ms/step\n",
      "Epoch 18/30\n",
      "469/469 - 24s - loss: 0.0256 - accuracy: 0.9929 - val_loss: 0.5920 - val_accuracy: 0.9174 - 24s/epoch - 51ms/step\n",
      "Epoch 19/30\n",
      "469/469 - 24s - loss: 0.0169 - accuracy: 0.9955 - val_loss: 0.7241 - val_accuracy: 0.9006 - 24s/epoch - 51ms/step\n",
      "Epoch 20/30\n",
      "469/469 - 24s - loss: 0.0303 - accuracy: 0.9910 - val_loss: 0.5804 - val_accuracy: 0.9140 - 24s/epoch - 51ms/step\n",
      "Epoch 21/30\n",
      "469/469 - 25s - loss: 0.0096 - accuracy: 0.9985 - val_loss: 0.6985 - val_accuracy: 0.9142 - 25s/epoch - 53ms/step\n",
      "Epoch 22/30\n",
      "469/469 - 25s - loss: 0.0070 - accuracy: 0.9985 - val_loss: 0.7104 - val_accuracy: 0.9150 - 25s/epoch - 53ms/step\n",
      "Epoch 23/30\n",
      "469/469 - 25s - loss: 0.0467 - accuracy: 0.9859 - val_loss: 0.6099 - val_accuracy: 0.8890 - 25s/epoch - 53ms/step\n",
      "Epoch 24/30\n",
      "469/469 - 25s - loss: 0.0242 - accuracy: 0.9933 - val_loss: 0.6581 - val_accuracy: 0.9122 - 25s/epoch - 53ms/step\n",
      "Epoch 25/30\n",
      "469/469 - 25s - loss: 0.0139 - accuracy: 0.9967 - val_loss: 0.6997 - val_accuracy: 0.9154 - 25s/epoch - 53ms/step\n",
      "Epoch 26/30\n",
      "469/469 - 25s - loss: 0.0024 - accuracy: 0.9999 - val_loss: 0.7396 - val_accuracy: 0.9148 - 25s/epoch - 52ms/step\n",
      "Epoch 27/30\n",
      "469/469 - 24s - loss: 0.0013 - accuracy: 0.9999 - val_loss: 0.7887 - val_accuracy: 0.9130 - 24s/epoch - 52ms/step\n",
      "Epoch 28/30\n",
      "469/469 - 24s - loss: 8.6522e-04 - accuracy: 1.0000 - val_loss: 0.8126 - val_accuracy: 0.9148 - 24s/epoch - 52ms/step\n",
      "Epoch 29/30\n",
      "469/469 - 25s - loss: 6.3996e-04 - accuracy: 1.0000 - val_loss: 0.8371 - val_accuracy: 0.9142 - 25s/epoch - 53ms/step\n",
      "Epoch 30/30\n",
      "469/469 - 25s - loss: 5.1374e-04 - accuracy: 1.0000 - val_loss: 0.8712 - val_accuracy: 0.9140 - 25s/epoch - 53ms/step\n"
     ]
    }
   ],
   "source": [
    "model = create_model()\n",
    "\n",
    "history = model.fit(\n",
    "    X_train, y_train,\n",
    "    validation_data=(X_test, y_test),\n",
    "    epochs= 30,\n",
    "    verbose = 2,\n",
    ")"
   ]
  },
  {
   "cell_type": "code",
   "execution_count": 21,
   "metadata": {},
   "outputs": [
    {
     "data": {
      "image/png": "[encoded data removed]",
      "text/plain": [
       "<Figure size 720x360 with 2 Axes>"
      ]
     },
     "metadata": {
      "needs_background": "light"
     },
     "output_type": "display_data"
    }
   ],
   "source": [
    "fig, axs = plt.subplots(1,3,figsize=(10,5))\n",
    "\n",
    "plt.subplot(1, 2, 1)\n",
    "plt.plot(history.history['accuracy'])\n",
    "plt.plot(history.history['val_accuracy'])\n",
    "plt.title('Model Accuracy')\n",
    "plt.ylabel('accuracy')\n",
    "plt.xlabel('epoch')\n",
    "plt.legend(['train', 'test'], loc='upper left')\n",
    "\n",
    "\n",
    "plt.subplot(1, 2, 2)\n",
    "plt.plot(history.history['loss'])\n",
    "plt.plot(history.history['val_loss'])\n",
    "plt.title('Model loss')\n",
    "plt.ylabel('loss')\n",
    "plt.xlabel('epoch')\n",
    "plt.legend(['train', 'test'], loc='upper right')\n",
    "\n",
    "fig.tight_layout()\n",
    "plt.show()"
   ]
  },
  {
   "cell_type": "code",
   "execution_count": 20,
   "metadata": {},
   "outputs": [
    {
     "data": {
      "text/plain": [
       "dict_keys(['loss', 'accuracy', 'val_loss', 'val_accuracy'])"
      ]
     },
     "execution_count": 20,
     "metadata": {},
     "output_type": "execute_result"
    }
   ],
   "source": [
    "history.history.keys()"
   ]
  },
  {
   "cell_type": "code",
   "execution_count": null,
   "metadata": {},
   "outputs": [],
   "source": []
  }
 ],
 "metadata": {
  "interpreter": {
   "hash": "29b0920499b0c8bb7cf3bb6fd9ab7a0e1eb3bd4ecaa5a279e30c2b56b95af1d5"
  },
  "kernelspec": {
   "display_name": "Python 3.7.4 ('base')",
   "language": "python",
   "name": "python3"
  },
  "language_info": {
   "codemirror_mode": {
    "name": "ipython",
    "version": 3
   },
   "file_extension": ".py",
   "mimetype": "text/x-python",
   "name": "python",
   "nbconvert_exporter": "python",
   "pygments_lexer": "ipython3",
   "version": "3.9.7"
  },
  "orig_nbformat": 4
 },
 "nbformat": 4,
 "nbformat_minor": 2
}
