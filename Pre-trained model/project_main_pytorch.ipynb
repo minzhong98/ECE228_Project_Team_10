{
 "cells": [
  {
   "cell_type": "markdown",
   "metadata": {},
   "source": [
    "# Use CNN to detect breast cancer "
   ]
  },
  {
   "cell_type": "code",
   "execution_count": 201,
   "metadata": {},
   "outputs": [],
   "source": [
    "# General packages\n",
    "import pandas as pd\n",
    "import numpy as np\n",
    "import os\n",
    "from glob import glob\n",
    "import matplotlib.pyplot as plt\n",
    "import random\n",
    "\n",
    "from matplotlib.image import imread\n",
    "import cv2\n",
    "\n",
    "# Packages for ML\n",
    "import torch\n",
    "import torch.optim as optim\n",
    "import torch.nn as nn\n",
    "import torch.nn.functional as F\n",
    "from sklearn.model_selection import train_test_split\n",
    "\n",
    "from keras.utils.np_utils import to_categorical\n",
    "from keras.models import Sequential\n",
    "# from keras.optimizers import SGD, RMSprop, Adam, Adagrad, Adadelta\n",
    "from tensorflow.keras.optimizers import Adam, Adagrad, Adadelta\n",
    "from keras.layers import Dense, Dropout, Activation, Flatten, BatchNormalization, Conv2D, MaxPool2D, MaxPooling2D\n"
   ]
  },
  {
   "cell_type": "code",
   "execution_count": 202,
   "metadata": {},
   "outputs": [
    {
     "name": "stdout",
     "output_type": "stream",
     "text": [
      "../ECE 228/archive/IDC_regular_ps50_idx5/9036/0/9036_idx5_x1051_y2401_class0.png\n",
      "../ECE 228/archive/IDC_regular_ps50_idx5/9036/0/9036_idx5_x2951_y951_class0.png\n",
      "../ECE 228/archive/IDC_regular_ps50_idx5/9036/0/9036_idx5_x3001_y1451_class0.png\n",
      "../ECE 228/archive/IDC_regular_ps50_idx5/9036/0/9036_idx5_x3051_y801_class0.png\n",
      "../ECE 228/archive/IDC_regular_ps50_idx5/9036/0/9036_idx5_x951_y1901_class0.png\n"
     ]
    }
   ],
   "source": [
    "fd = '../ECE 228/archive/IDC_regular_ps50_idx5'\n",
    "\n",
    "imagePatches = glob(fd + '/**/*.png', recursive=True)\n",
    "for filename in imagePatches[0:5]:\n",
    "    print(filename)"
   ]
  },
  {
   "cell_type": "code",
   "execution_count": 203,
   "metadata": {},
   "outputs": [
    {
     "data": {
      "text/plain": [
       "277524"
      ]
     },
     "execution_count": 203,
     "metadata": {},
     "output_type": "execute_result"
    }
   ],
   "source": [
    "len(imagePatches)"
   ]
  },
  {
   "cell_type": "code",
   "execution_count": 204,
   "metadata": {},
   "outputs": [
    {
     "data": {
      "text/plain": [
       "'Size of the class 0 = '"
      ]
     },
     "metadata": {},
     "output_type": "display_data"
    },
    {
     "data": {
      "text/plain": [
       "198738"
      ]
     },
     "metadata": {},
     "output_type": "display_data"
    },
    {
     "data": {
      "text/plain": [
       "'Size of the class 1 = '"
      ]
     },
     "metadata": {},
     "output_type": "display_data"
    },
    {
     "data": {
      "text/plain": [
       "78786"
      ]
     },
     "metadata": {},
     "output_type": "display_data"
    }
   ],
   "source": [
    "# bin the data to cancer and no cancer\n",
    "\n",
    "class0 = [] # 0 = no cancer\n",
    "class1 = [] # 1 = cancer\n",
    "\n",
    "for filename in imagePatches:\n",
    "    if filename.endswith(\"class0.png\"):\n",
    "         class0.append(filename)\n",
    "    else:\n",
    "        class1.append(filename)\n",
    "\n",
    "display('Size of the class 0 = ',len(class0))\n",
    "display('Size of the class 1 = ',len(class1))"
   ]
  },
  {
   "cell_type": "code",
   "execution_count": 205,
   "metadata": {},
   "outputs": [],
   "source": [
    "# randomly select 1000 images from each class\n",
    "\n",
    "num_sample_selected = 10000\n",
    "rand_sample_class0 = random.sample(class0, num_sample_selected)\n",
    "rand_sample_class1 = random.sample(class1, num_sample_selected)\n"
   ]
  },
  {
   "cell_type": "code",
   "execution_count": 206,
   "metadata": {},
   "outputs": [],
   "source": [
    "def get_image_arrays(data, label):\n",
    "    img_arrays = []\n",
    "    for i in data:\n",
    "        if i.endswith('.png'):\n",
    "            img = imread(i )\n",
    "            img_sized = cv2.resize(img, (50, 50), interpolation=cv2.INTER_LINEAR)\n",
    "            img_arrays.append([img_sized, label])\n",
    "    return img_arrays"
   ]
  },
  {
   "cell_type": "code",
   "execution_count": 207,
   "metadata": {},
   "outputs": [],
   "source": [
    "class0_array = get_image_arrays(rand_sample_class0, 0)\n",
    "class1_array = get_image_arrays(rand_sample_class1, 1)"
   ]
  },
  {
   "cell_type": "code",
   "execution_count": 208,
   "metadata": {},
   "outputs": [
    {
     "data": {
      "text/plain": [
       "10000"
      ]
     },
     "execution_count": 208,
     "metadata": {},
     "output_type": "execute_result"
    }
   ],
   "source": [
    "len(class0_array)"
   ]
  },
  {
   "cell_type": "code",
   "execution_count": 209,
   "metadata": {},
   "outputs": [
    {
     "data": {
      "text/plain": [
       "(50, 50, 3)"
      ]
     },
     "metadata": {},
     "output_type": "display_data"
    },
    {
     "data": {
      "image/png": "[encoded data removed]",
      "text/plain": [
       "<Figure size 432x288 with 1 Axes>"
      ]
     },
     "metadata": {
      "needs_background": "light"
     },
     "output_type": "display_data"
    }
   ],
   "source": [
    "#test = cv2.imread(fd + '/13689/1/13689_idx5_x801_y1501_class1.png' ,cv2.IMREAD_COLOR)\n",
    "plt.imshow(class0_array[0][0])\n",
    "\n",
    "display(test.shape)"
   ]
  },
  {
   "cell_type": "code",
   "execution_count": 210,
   "metadata": {},
   "outputs": [
    {
     "name": "stderr",
     "output_type": "stream",
     "text": [
      "<__array_function__ internals>:5: VisibleDeprecationWarning: Creating an ndarray from ragged nested sequences (which is a list-or-tuple of lists-or-tuples-or ndarrays with different lengths or shapes) is deprecated. If you meant to do this, you must specify 'dtype=object' when creating the ndarray.\n"
     ]
    }
   ],
   "source": [
    "combined_data = np.concatenate((class0_array, class1_array))\n",
    "random.seed(10)\n",
    "random.shuffle(combined_data)"
   ]
  },
  {
   "cell_type": "code",
   "execution_count": 211,
   "metadata": {},
   "outputs": [
    {
     "data": {
      "text/plain": [
       "(20000, 2)"
      ]
     },
     "execution_count": 211,
     "metadata": {},
     "output_type": "execute_result"
    }
   ],
   "source": [
    "combined_data.shape"
   ]
  },
  {
   "cell_type": "code",
   "execution_count": 212,
   "metadata": {},
   "outputs": [],
   "source": [
    "X = []\n",
    "y = []\n",
    "\n",
    "for i in range(combined_data.shape[0]):\n",
    "    X.append(combined_data[i][0])\n",
    "    y.append(combined_data[i][1])\n",
    "\n"
   ]
  },
  {
   "cell_type": "code",
   "execution_count": 213,
   "metadata": {},
   "outputs": [],
   "source": [
    "X = np.array(X).reshape(-1, 50, 50, 3)"
   ]
  },
  {
   "cell_type": "code",
   "execution_count": 214,
   "metadata": {},
   "outputs": [
    {
     "data": {
      "text/plain": [
       "(20000, 50, 50, 3)"
      ]
     },
     "execution_count": 214,
     "metadata": {},
     "output_type": "execute_result"
    }
   ],
   "source": [
    "X.shape"
   ]
  },
  {
   "cell_type": "code",
   "execution_count": 215,
   "metadata": {},
   "outputs": [
    {
     "name": "stdout",
     "output_type": "stream",
     "text": [
      "(15000, 50, 50, 3) (5000, 50, 50, 3) (15000, 2) (5000, 2)\n"
     ]
    }
   ],
   "source": [
    "X_train, X_test, y_train, y_test = train_test_split(X, y, test_size=0.25, random_state=10)\n",
    "y_train = to_categorical(y_train)\n",
    "y_test = to_categorical(y_test)\n",
    "print(X_train.shape, X_test.shape, y_train.shape, y_test.shape)"
   ]
  },
  {
   "cell_type": "code",
   "execution_count": 216,
   "metadata": {},
   "outputs": [],
   "source": [
    "def create_model():        \n",
    "    model = Sequential()\n",
    "    model.add(Conv2D(filters = 8, kernel_size=3, activation='relu', input_shape=(50,50,3)))\n",
    "    #model.add(Conv2D(filters = 8, kernel_size=3, activation='relu'))\n",
    "    model.add(Flatten())\n",
    "    model.add(Dense(2, activation=\"softmax\"))\n",
    "    adam = Adam(learning_rate=0.01)\n",
    "    #model.compile(loss=\"binary_crossentropy\", optimizer=adam, metrics=['accuracy'])   \n",
    "    model.compile(loss=\"MeanSquaredError\", optimizer=adam, metrics=['accuracy'])     \n",
    "\n",
    "\n",
    "    return model"
   ]
  },
  {
   "cell_type": "code",
   "execution_count": 217,
   "metadata": {},
   "outputs": [
    {
     "name": "stdout",
     "output_type": "stream",
     "text": [
      "Epoch 1/20\n",
      "469/469 - 4s - loss: 0.1545 - accuracy: 0.8455 - val_loss: 0.1624 - val_accuracy: 0.8376 - 4s/epoch - 9ms/step\n",
      "Epoch 2/20\n",
      "469/469 - 4s - loss: 0.1545 - accuracy: 0.8455 - val_loss: 0.1624 - val_accuracy: 0.8376 - 4s/epoch - 8ms/step\n",
      "Epoch 3/20\n",
      "469/469 - 3s - loss: 0.1545 - accuracy: 0.8455 - val_loss: 0.1624 - val_accuracy: 0.8376 - 3s/epoch - 7ms/step\n",
      "Epoch 4/20\n",
      "469/469 - 3s - loss: 0.1545 - accuracy: 0.8455 - val_loss: 0.1624 - val_accuracy: 0.8376 - 3s/epoch - 7ms/step\n",
      "Epoch 5/20\n",
      "469/469 - 3s - loss: 0.1545 - accuracy: 0.8455 - val_loss: 0.1624 - val_accuracy: 0.8376 - 3s/epoch - 7ms/step\n",
      "Epoch 6/20\n",
      "469/469 - 3s - loss: 0.1545 - accuracy: 0.8455 - val_loss: 0.1624 - val_accuracy: 0.8376 - 3s/epoch - 7ms/step\n",
      "Epoch 7/20\n",
      "469/469 - 4s - loss: 0.1545 - accuracy: 0.8455 - val_loss: 0.1624 - val_accuracy: 0.8376 - 4s/epoch - 8ms/step\n",
      "Epoch 8/20\n",
      "469/469 - 4s - loss: 0.1545 - accuracy: 0.8455 - val_loss: 0.1624 - val_accuracy: 0.8376 - 4s/epoch - 8ms/step\n",
      "Epoch 9/20\n",
      "469/469 - 4s - loss: 0.1545 - accuracy: 0.8455 - val_loss: 0.1624 - val_accuracy: 0.8376 - 4s/epoch - 8ms/step\n",
      "Epoch 10/20\n",
      "469/469 - 4s - loss: 0.1545 - accuracy: 0.8455 - val_loss: 0.1624 - val_accuracy: 0.8376 - 4s/epoch - 8ms/step\n",
      "Epoch 11/20\n",
      "469/469 - 4s - loss: 0.1545 - accuracy: 0.8455 - val_loss: 0.1624 - val_accuracy: 0.8376 - 4s/epoch - 8ms/step\n",
      "Epoch 12/20\n",
      "469/469 - 3s - loss: 0.1545 - accuracy: 0.8455 - val_loss: 0.1624 - val_accuracy: 0.8376 - 3s/epoch - 7ms/step\n",
      "Epoch 13/20\n",
      "469/469 - 3s - loss: 0.1545 - accuracy: 0.8455 - val_loss: 0.1624 - val_accuracy: 0.8376 - 3s/epoch - 7ms/step\n",
      "Epoch 14/20\n",
      "469/469 - 3s - loss: 0.1545 - accuracy: 0.8455 - val_loss: 0.1624 - val_accuracy: 0.8376 - 3s/epoch - 7ms/step\n",
      "Epoch 15/20\n"
     ]
    }
   ],
   "source": [
    "model = create_model()\n",
    "\n",
    "history = model.fit(\n",
    "    X_train, y_train,\n",
    "    validation_data=(X_test, y_test),\n",
    "    epochs= 20,\n",
    "    verbose = 2,\n",
    ")"
   ]
  },
  {
   "cell_type": "code",
   "execution_count": null,
   "metadata": {},
   "outputs": [
    {
     "data": {
      "image/png": "[encoded data removed]",
      "text/plain": [
       "<Figure size 432x288 with 1 Axes>"
      ]
     },
     "metadata": {
      "needs_background": "light"
     },
     "output_type": "display_data"
    }
   ],
   "source": [
    "plt.plot(history.history['accuracy'])\n",
    "plt.plot(history.history['val_accuracy'])\n",
    "plt.title('Model Accuracy')\n",
    "plt.ylabel('accuracy')\n",
    "plt.xlabel('epoch')\n",
    "plt.legend(['train', 'test'], loc='upper left')\n",
    "plt.show()"
   ]
  }
 ],
 "metadata": {
  "interpreter": {
   "hash": "29b0920499b0c8bb7cf3bb6fd9ab7a0e1eb3bd4ecaa5a279e30c2b56b95af1d5"
  },
  "kernelspec": {
   "display_name": "Python 3.7.4 ('base')",
   "language": "python",
   "name": "python3"
  },
  "language_info": {
   "codemirror_mode": {
    "name": "ipython",
    "version": 3
   },
   "file_extension": ".py",
   "mimetype": "text/x-python",
   "name": "python",
   "nbconvert_exporter": "python",
   "pygments_lexer": "ipython3",
   "version": "3.9.7"
  },
  "orig_nbformat": 4
 },
 "nbformat": 4,
 "nbformat_minor": 2
}
