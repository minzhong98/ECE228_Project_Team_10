{
 "cells": [
  {
   "cell_type": "markdown",
   "metadata": {},
   "source": [
    "# Use CNN to detect breast cancer "
   ]
  },
  {
   "cell_type": "code",
   "execution_count": 1,
   "metadata": {},
   "outputs": [],
   "source": [
    "# General packages\n",
    "import pandas as pd\n",
    "import numpy as np\n",
    "import os\n",
    "from glob import glob\n",
    "import matplotlib.pyplot as plt\n",
    "import random\n",
    "\n",
    "from matplotlib.image import imread\n",
    "import cv2\n",
    "\n",
    "# Packages for ML\n",
    "import torch\n",
    "import torch.optim as optim\n",
    "import torch.nn as nn\n",
    "import torch.nn.functional as F\n",
    "from sklearn.model_selection import train_test_split\n",
    "\n",
    "from keras.utils.np_utils import to_categorical\n",
    "from keras.models import Sequential\n",
    "# from keras.optimizers import SGD, RMSprop, Adam, Adagrad, Adadelta\n",
    "from tensorflow.keras.optimizers import Adam, Adagrad, Adadelta\n",
    "from keras.layers import Dense, Dropout, Activation, Flatten, BatchNormalization, Conv2D, MaxPool2D, MaxPooling2D\n"
   ]
  },
  {
   "cell_type": "code",
   "execution_count": 2,
   "metadata": {},
   "outputs": [
    {
     "name": "stdout",
     "output_type": "stream",
     "text": [
      "archive/IDC_regular_ps50_idx5/9036/0/9036_idx5_x1051_y2401_class0.png\n",
      "archive/IDC_regular_ps50_idx5/9036/0/9036_idx5_x2951_y951_class0.png\n",
      "archive/IDC_regular_ps50_idx5/9036/0/9036_idx5_x3001_y1451_class0.png\n",
      "archive/IDC_regular_ps50_idx5/9036/0/9036_idx5_x3051_y801_class0.png\n",
      "archive/IDC_regular_ps50_idx5/9036/0/9036_idx5_x951_y1901_class0.png\n"
     ]
    }
   ],
   "source": [
    "fd = 'archive/IDC_regular_ps50_idx5'\n",
    "\n",
    "imagePatches = glob(fd + '/**/*.png', recursive=True)\n",
    "for filename in imagePatches[0:5]:\n",
    "    print(filename)"
   ]
  },
  {
   "cell_type": "code",
   "execution_count": 3,
   "metadata": {},
   "outputs": [
    {
     "data": {
      "text/plain": [
       "277524"
      ]
     },
     "execution_count": 3,
     "metadata": {},
     "output_type": "execute_result"
    }
   ],
   "source": [
    "len(imagePatches)"
   ]
  },
  {
   "cell_type": "code",
   "execution_count": 4,
   "metadata": {},
   "outputs": [
    {
     "data": {
      "text/plain": [
       "'Size of the class 0 = '"
      ]
     },
     "metadata": {},
     "output_type": "display_data"
    },
    {
     "data": {
      "text/plain": [
       "198738"
      ]
     },
     "metadata": {},
     "output_type": "display_data"
    },
    {
     "data": {
      "text/plain": [
       "'Size of the class 1 = '"
      ]
     },
     "metadata": {},
     "output_type": "display_data"
    },
    {
     "data": {
      "text/plain": [
       "78786"
      ]
     },
     "metadata": {},
     "output_type": "display_data"
    }
   ],
   "source": [
    "# bin the data to cancer and no cancer\n",
    "\n",
    "class0 = [] # 0 = no cancer\n",
    "class1 = [] # 1 = cancer\n",
    "\n",
    "for filename in imagePatches:\n",
    "    if filename.endswith(\"class0.png\"):\n",
    "         class0.append(filename)\n",
    "    else:\n",
    "        class1.append(filename)\n",
    "\n",
    "display('Size of the class 0 = ',len(class0))\n",
    "display('Size of the class 1 = ',len(class1))"
   ]
  },
  {
   "cell_type": "code",
   "execution_count": 19,
   "metadata": {},
   "outputs": [],
   "source": [
    "# randomly select 1000 images from each class\n",
    "\n",
    "num_sample_selected = 10000\n",
    "rand_sample_class0 = random.sample(class0, num_sample_selected)\n",
    "rand_sample_class1 = random.sample(class1, num_sample_selected)\n"
   ]
  },
  {
   "cell_type": "code",
   "execution_count": 20,
   "metadata": {},
   "outputs": [],
   "source": [
    "def get_image_arrays(data, label):\n",
    "    img_arrays = []\n",
    "    for i in data:\n",
    "        if i.endswith('.png'):\n",
    "            img = imread(i )\n",
    "            img_sized = cv2.resize(img, (64, 64), interpolation=cv2.INTER_LINEAR)\n",
    "            img_arrays.append([img_sized, label])\n",
    "    return img_arrays"
   ]
  },
  {
   "cell_type": "code",
   "execution_count": 21,
   "metadata": {},
   "outputs": [],
   "source": [
    "class0_array = get_image_arrays(rand_sample_class0, 0)\n",
    "class1_array = get_image_arrays(rand_sample_class1, 1)"
   ]
  },
  {
   "cell_type": "code",
   "execution_count": 22,
   "metadata": {},
   "outputs": [
    {
     "data": {
      "text/plain": [
       "10000"
      ]
     },
     "execution_count": 22,
     "metadata": {},
     "output_type": "execute_result"
    }
   ],
   "source": [
    "len(class0_array)"
   ]
  },
  {
   "cell_type": "code",
   "execution_count": 23,
   "metadata": {},
   "outputs": [
    {
     "data": {
      "text/plain": [
       "(50, 50, 3)"
      ]
     },
     "metadata": {},
     "output_type": "display_data"
    },
    {
     "data": {
      "image/png": "[encoded data removed]",
      "text/plain": [
       "<Figure size 432x288 with 1 Axes>"
      ]
     },
     "metadata": {
      "needs_background": "light"
     },
     "output_type": "display_data"
    }
   ],
   "source": [
    "test = cv2.imread(fd + '/13689/1/13689_idx5_x801_y1501_class1.png' ,cv2.IMREAD_COLOR)\n",
    "plt.imshow(test)\n",
    "\n",
    "display(test.shape)"
   ]
  },
  {
   "cell_type": "code",
   "execution_count": 24,
   "metadata": {},
   "outputs": [],
   "source": [
    "combined_data = np.concatenate((class0_array, class1_array))\n",
    "random.seed(10)\n",
    "random.shuffle(combined_data)"
   ]
  },
  {
   "cell_type": "code",
   "execution_count": 25,
   "metadata": {},
   "outputs": [
    {
     "data": {
      "text/plain": [
       "(20000, 2)"
      ]
     },
     "execution_count": 25,
     "metadata": {},
     "output_type": "execute_result"
    }
   ],
   "source": [
    "combined_data.shape"
   ]
  },
  {
   "cell_type": "code",
   "execution_count": 26,
   "metadata": {},
   "outputs": [],
   "source": [
    "X = []\n",
    "y = []\n",
    "\n",
    "for i in range(combined_data.shape[0]):\n",
    "    X.append(combined_data[i][0])\n",
    "    y.append(combined_data[i][1])\n",
    "\n"
   ]
  },
  {
   "cell_type": "code",
   "execution_count": 27,
   "metadata": {},
   "outputs": [],
   "source": [
    "X = np.array(X).reshape(-1, 64, 64, 3)"
   ]
  },
  {
   "cell_type": "code",
   "execution_count": 28,
   "metadata": {},
   "outputs": [
    {
     "name": "stdout",
     "output_type": "stream",
     "text": [
      "False\n"
     ]
    }
   ],
   "source": [
    "print(torch.cuda.is_available())"
   ]
  },
  {
   "cell_type": "code",
   "execution_count": 29,
   "metadata": {},
   "outputs": [
    {
     "data": {
      "text/plain": [
       "(20000, 64, 64, 3)"
      ]
     },
     "execution_count": 29,
     "metadata": {},
     "output_type": "execute_result"
    }
   ],
   "source": [
    "X.shape"
   ]
  },
  {
   "cell_type": "code",
   "execution_count": 30,
   "metadata": {},
   "outputs": [
    {
     "name": "stdout",
     "output_type": "stream",
     "text": [
      "(15000, 64, 64, 3) (5000, 64, 64, 3) (15000, 2) (5000, 2)\n"
     ]
    }
   ],
   "source": [
    "X_train, X_test, y_train, y_test = train_test_split(X, y, test_size=0.25, random_state=10)\n",
    "y_train = to_categorical(y_train)\n",
    "y_test = to_categorical(y_test)\n",
    "print(X_train.shape, X_test.shape, y_train.shape, y_test.shape)"
   ]
  },
  {
   "cell_type": "code",
   "execution_count": 31,
   "metadata": {},
   "outputs": [],
   "source": [
    "def create_model():        \n",
    "    model = Sequential()\n",
    "    model.add(Conv2D(filters = 32, kernel_size=3, activation='relu', input_shape=(64,64,3)))\n",
    "    model.add(Conv2D(filters = 16, kernel_size=3, activation='relu'))\n",
    "    #model.add(Conv2D(filters = 16, kernel_size=3, activation='relu'))\n",
    "    model.add(MaxPooling2D(pool_size=(2, 2)))\n",
    "    model.add(Dropout(0.25))\n",
    "    model.add(Flatten())\n",
    "    model.add(Dense(128, activation='relu'))\n",
    "    model.add(Dropout(0.5))\n",
    "    model.add(Dense(2, activation=\"softmax\"))\n",
    "    adam = Adam(learning_rate=0.001)\n",
    "    model.compile(loss=\"binary_crossentropy\", optimizer=adam, metrics=['accuracy'])   \n",
    "    #model.compile(loss=\"MeanSquaredError\", optimizer=adam, metrics=['accuracy'])     \n",
    "\n",
    "\n",
    "    return model"
   ]
  },
  {
   "cell_type": "code",
   "execution_count": 32,
   "metadata": {},
   "outputs": [
    {
     "name": "stdout",
     "output_type": "stream",
     "text": [
      "Epoch 1/30\n",
      "469/469 - 60s - loss: 0.3613 - accuracy: 0.8485 - val_loss: 0.3480 - val_accuracy: 0.8480 - 60s/epoch - 129ms/step\n",
      "Epoch 2/30\n",
      "469/469 - 57s - loss: 0.3337 - accuracy: 0.8600 - val_loss: 0.3319 - val_accuracy: 0.8654 - 57s/epoch - 121ms/step\n",
      "Epoch 3/30\n",
      "469/469 - 60s - loss: 0.3250 - accuracy: 0.8702 - val_loss: 0.3397 - val_accuracy: 0.8728 - 60s/epoch - 128ms/step\n",
      "Epoch 4/30\n",
      "469/469 - 63s - loss: 0.3178 - accuracy: 0.8743 - val_loss: 0.3463 - val_accuracy: 0.8722 - 63s/epoch - 134ms/step\n",
      "Epoch 5/30\n",
      "469/469 - 55s - loss: 0.3098 - accuracy: 0.8791 - val_loss: 0.3052 - val_accuracy: 0.8782 - 55s/epoch - 117ms/step\n",
      "Epoch 6/30\n",
      "469/469 - 49s - loss: 0.2904 - accuracy: 0.8870 - val_loss: 0.3115 - val_accuracy: 0.8802 - 49s/epoch - 105ms/step\n",
      "Epoch 7/30\n",
      "469/469 - 52s - loss: 0.2825 - accuracy: 0.8939 - val_loss: 0.3092 - val_accuracy: 0.8820 - 52s/epoch - 111ms/step\n",
      "Epoch 8/30\n",
      "469/469 - 57s - loss: 0.2703 - accuracy: 0.8966 - val_loss: 0.2927 - val_accuracy: 0.8884 - 57s/epoch - 122ms/step\n",
      "Epoch 9/30\n",
      "469/469 - 74s - loss: 0.2567 - accuracy: 0.9021 - val_loss: 0.3124 - val_accuracy: 0.8858 - 74s/epoch - 158ms/step\n",
      "Epoch 10/30\n",
      "469/469 - 66s - loss: 0.2478 - accuracy: 0.9078 - val_loss: 0.2786 - val_accuracy: 0.8908 - 66s/epoch - 140ms/step\n",
      "Epoch 11/30\n",
      "469/469 - 63s - loss: 0.2391 - accuracy: 0.9132 - val_loss: 0.2960 - val_accuracy: 0.8928 - 63s/epoch - 134ms/step\n",
      "Epoch 12/30\n",
      "469/469 - 57s - loss: 0.2194 - accuracy: 0.9202 - val_loss: 0.2732 - val_accuracy: 0.9000 - 57s/epoch - 122ms/step\n",
      "Epoch 13/30\n",
      "469/469 - 54s - loss: 0.2048 - accuracy: 0.9273 - val_loss: 0.2878 - val_accuracy: 0.8968 - 54s/epoch - 115ms/step\n",
      "Epoch 14/30\n",
      "469/469 - 50s - loss: 0.1920 - accuracy: 0.9308 - val_loss: 0.2664 - val_accuracy: 0.9040 - 50s/epoch - 107ms/step\n",
      "Epoch 15/30\n",
      "469/469 - 56s - loss: 0.1808 - accuracy: 0.9345 - val_loss: 0.2774 - val_accuracy: 0.9038 - 56s/epoch - 119ms/step\n",
      "Epoch 16/30\n",
      "469/469 - 57s - loss: 0.1620 - accuracy: 0.9434 - val_loss: 0.2655 - val_accuracy: 0.9094 - 57s/epoch - 121ms/step\n",
      "Epoch 17/30\n",
      "469/469 - 51s - loss: 0.1484 - accuracy: 0.9465 - val_loss: 0.2639 - val_accuracy: 0.9158 - 51s/epoch - 108ms/step\n",
      "Epoch 18/30\n",
      "469/469 - 64s - loss: 0.1383 - accuracy: 0.9539 - val_loss: 0.2771 - val_accuracy: 0.9164 - 64s/epoch - 136ms/step\n",
      "Epoch 19/30\n",
      "469/469 - 64s - loss: 0.1300 - accuracy: 0.9563 - val_loss: 0.2567 - val_accuracy: 0.9190 - 64s/epoch - 136ms/step\n",
      "Epoch 20/30\n",
      "469/469 - 53s - loss: 0.1183 - accuracy: 0.9612 - val_loss: 0.2919 - val_accuracy: 0.9174 - 53s/epoch - 113ms/step\n",
      "Epoch 21/30\n",
      "469/469 - 63s - loss: 0.1075 - accuracy: 0.9646 - val_loss: 0.2762 - val_accuracy: 0.9184 - 63s/epoch - 135ms/step\n",
      "Epoch 22/30\n",
      "469/469 - 62s - loss: 0.0995 - accuracy: 0.9660 - val_loss: 0.2606 - val_accuracy: 0.9186 - 62s/epoch - 132ms/step\n",
      "Epoch 23/30\n",
      "469/469 - 50s - loss: 0.1086 - accuracy: 0.9647 - val_loss: 0.2815 - val_accuracy: 0.9238 - 50s/epoch - 107ms/step\n",
      "Epoch 24/30\n",
      "469/469 - 48s - loss: 0.0881 - accuracy: 0.9717 - val_loss: 0.3078 - val_accuracy: 0.9156 - 48s/epoch - 102ms/step\n",
      "Epoch 25/30\n",
      "469/469 - 49s - loss: 0.0870 - accuracy: 0.9711 - val_loss: 0.3258 - val_accuracy: 0.9190 - 49s/epoch - 105ms/step\n",
      "Epoch 26/30\n",
      "469/469 - 48s - loss: 0.0811 - accuracy: 0.9732 - val_loss: 0.3380 - val_accuracy: 0.9210 - 48s/epoch - 102ms/step\n",
      "Epoch 27/30\n",
      "469/469 - 49s - loss: 0.0774 - accuracy: 0.9739 - val_loss: 0.3437 - val_accuracy: 0.9232 - 49s/epoch - 104ms/step\n",
      "Epoch 28/30\n",
      "469/469 - 48s - loss: 0.0703 - accuracy: 0.9763 - val_loss: 0.3150 - val_accuracy: 0.9248 - 48s/epoch - 102ms/step\n",
      "Epoch 29/30\n",
      "469/469 - 49s - loss: 0.0723 - accuracy: 0.9762 - val_loss: 0.3665 - val_accuracy: 0.9214 - 49s/epoch - 105ms/step\n",
      "Epoch 30/30\n",
      "469/469 - 48s - loss: 0.0737 - accuracy: 0.9753 - val_loss: 0.3038 - val_accuracy: 0.9262 - 48s/epoch - 102ms/step\n"
     ]
    }
   ],
   "source": [
    "model = create_model()\n",
    "\n",
    "history = model.fit(\n",
    "    X_train, y_train,\n",
    "    validation_data=(X_test, y_test),\n",
    "    epochs= 30,\n",
    "    verbose = 2,\n",
    ")"
   ]
  },
  {
   "cell_type": "code",
   "execution_count": 35,
   "metadata": {},
   "outputs": [
    {
     "data": {
      "image/png": "[encoded data removed]",
      "text/plain": [
       "<Figure size 720x360 with 2 Axes>"
      ]
     },
     "metadata": {
      "needs_background": "light"
     },
     "output_type": "display_data"
    }
   ],
   "source": [
    "fig, axs = plt.subplots(1,3,figsize=(10,5))\n",
    "\n",
    "plt.subplot(1, 2, 1)\n",
    "plt.plot(history.history['accuracy'])\n",
    "plt.plot(history.history['val_accuracy'])\n",
    "plt.title('Model Accuracy')\n",
    "plt.ylabel('accuracy')\n",
    "plt.xlabel('epoch')\n",
    "plt.legend(['train', 'validation'], loc='upper left')\n",
    "\n",
    "\n",
    "plt.subplot(1, 2, 2)\n",
    "plt.plot(history.history['loss'])\n",
    "plt.plot(history.history['val_loss'])\n",
    "plt.title('Model loss')\n",
    "plt.ylabel('loss')\n",
    "plt.xlabel('epoch')\n",
    "plt.legend(['train', 'validation'], loc='upper right')\n",
    "\n",
    "fig.tight_layout()\n",
    "plt.savefig('Simple_CNN_v3.png',dpi=300)\n",
    "plt.show()"
   ]
  },
  {
   "cell_type": "code",
   "execution_count": 20,
   "metadata": {},
   "outputs": [
    {
     "data": {
      "text/plain": [
       "dict_keys(['loss', 'accuracy', 'val_loss', 'val_accuracy'])"
      ]
     },
     "execution_count": 20,
     "metadata": {},
     "output_type": "execute_result"
    }
   ],
   "source": [
    "history.history.keys()"
   ]
  }
 ],
 "metadata": {
  "interpreter": {
   "hash": "29b0920499b0c8bb7cf3bb6fd9ab7a0e1eb3bd4ecaa5a279e30c2b56b95af1d5"
  },
  "kernelspec": {
   "display_name": "Python 3",
   "language": "python",
   "name": "python3"
  },
  "language_info": {
   "codemirror_mode": {
    "name": "ipython",
    "version": 3
   },
   "file_extension": ".py",
   "mimetype": "text/x-python",
   "name": "python",
   "nbconvert_exporter": "python",
   "pygments_lexer": "ipython3",
   "version": "3.8.8"
  }
 },
 "nbformat": 4,
 "nbformat_minor": 2
}
